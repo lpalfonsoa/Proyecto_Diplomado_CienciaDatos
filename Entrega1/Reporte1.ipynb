{
 "cells": [
  {
   "cell_type": "markdown",
   "id": "0bda1e1b-3ff3-440e-a388-62cbbdcc4b51",
   "metadata": {},
   "source": [
    "# <center> <span style=\"color:purple\"> Diplomado en Ciencia de Datos. Reporte 1, proyecto.</span>\n",
    "### <span style=\"color:darkblue\"> Autor </span> \n",
    "<span style=\"color:black\"> Leidy Alfonso, lpalfonsoa@unal.edu.co </span> \n",
    "    \n",
    "<span style=\"color:black\"> Daniela Trigos, dtrigos@unal.edu.co </span>\n",
    "    \n",
    "<span style=\"color:black\"> Juan Diego García Martínez, juagarcia@unal.edu.co </span>"
   ]
  },
  {
   "cell_type": "markdown",
   "id": "c1a99ed1",
   "metadata": {},
   "source": [
    "## <span style=\"color:darkblue\"> Asesor principal:  </span>  \n",
    "\n",
    "Daniel Montenegro"
   ]
  },
  {
   "cell_type": "markdown",
   "id": "1c669d3c",
   "metadata": {},
   "source": [
    "## <span style=\"color:darkblue\"> Introducción:  </span>\n",
    "El modelo estándar de partículas es una teoría fundamental desarrollada en los años 70 que explica cómo interactúan los componentes básicos de la materia. Esta resulta de vital importancia en la actualidad debido a que ha demostrado un enorme éxito al proporcionar predicciones experimentales y dada su capacidad de describir tres de las cuatro fuerzas fundamentales. Aunque el modelo estándar de partículas es muy robusto, hoy sabemos que no es un modelo completo, pues no puede explicar ciertos fenómentos de carácter fundamental en la física. Estos últimos se buscan explicar con modelos que vayan más allá del modelo estándar y para confirmarlos experimentalmente es necesario poder detectar nuevas partículas.\n",
    "\n",
    "Por un lado, en el último siglo se han desarrollado diferentes aceleradores de partículas con el fin de obtener energías cada vez mayores, haciendo posible medir fenómenos de altas energías que no están presentes en la cotidianidad. Es de particular interés el Gran Colisionador de Hadrones (conocio como LHC por sus siglas en inglés) ya que es el acelerador de partículas más grande y de mayor energía que existe en la actualidad, esperando que ayude a responder algunas de las preguntas fundamentales de la física que se refieren a las leyes básicas que rigen las interacciones y fuerzas entre las partículas elementales. Por otro lado, aunque el LHC ha tenido grandes éxitos, como por ejemplo la medición experimental (y por lo tanto la confirmación) de la existencia del bosón de Higgs, no se han detectado de manera convincente nuevas partículas producidas en colisiones de altas energías capaces de dar razón a las incógnitas actuales, a pesar de los grandes esfuerzos hechos. Debido a esto, actualmente los científicos buscan desarrollar tanto nuevas teorías como nuevos métodos para abarcar estas preguntas. Es así como, dado que los colisionadores proveen una gran cantidad de información durante su período de funcionamiento, las ténicas de análisis de datos y modelos de inteligencia articifial resaltan como una opción viable y esperanzadora que podría ayudar a encontrar un método para detectar nuevos fenómenos que puedan llevar a la detección de partículas aún no descubiertas."
   ]
  },
  {
   "cell_type": "markdown",
   "id": "50461b0e",
   "metadata": {},
   "source": [
    "## <span style=\"color:darkblue\"> Descripción del problema:  </span> \n",
    "El objetivo de este trabajo es emplear técnicas de aprendizaje de máquinas para clasificar eventos anómalos, es decir, que no se puedan explicar a partir del modelo estándar, usando algoritmos de inteligencia artificial a partir de los datos proveídos por el LHC.\n",
    "\n",
    "Los detectores de partículas tienen dos tipos de mecanísmos principales de detección: la detección de trazas y la detección de depositos de energías. En este caso analizaremos los datos de los calorímetros hadrónicos, los cuales detéctan depósitos de energía de hadrones (o jets).\n"
   ]
  },
  {
   "cell_type": "markdown",
   "id": "df116c03-2d4a-4264-8782-aa763ff586f1",
   "metadata": {},
   "source": [
    "## <span style=\"color:darkblue\"> Fuentes de Datos:  </span>  \n",
    "\n",
    "Los datos que se usarán son un conjunto de datos libres del LHC, los cuales hacen parte de los datos oficiales para el Desafío de Detección de Anomalías de las Olimpiadas del LHC 2020, que se encuentran disponibles directamente [aquí](https://zenodo.org/record/4536624). Se sabe que cada archivo contiene 1M de eventos que pretenden ser representativos de los datos reales del LHC. Estos eventos se almacenan como marcos de datos pandas guardados en formato comprimido h5.\n",
    "\n",
    "\n",
    "Para llevar a cabo el trabajo usaremos dos tipos de datos:\n",
    "\n",
    "1. El primer tipo de datos fue obtenido a partir de una simulación de Monte Carlo hecha considerando los procesos descrítos por el modelo estándar.\n",
    "\n",
    "2. El segundo tipo de datos son conjuntos de señales anómalas, éstos datos pueden contener señales de partículas nuevas."
   ]
  },
  {
   "cell_type": "markdown",
   "id": "ad6b0a83",
   "metadata": {},
   "source": [
    "## <span style=\"color:darkblue\"> Procesamiento ETL:  </span>     \n",
    "\n",
    "Los datos vienen en formato `HDF5`, de manera que se usará la librería `h5py` para manejar dichas bases de datos."
   ]
  },
  {
   "cell_type": "markdown",
   "id": "84558911",
   "metadata": {},
   "source": [
    "## <span style=\"color:darkblue\"> Exploración de datos:  </span>     "
   ]
  },
  {
   "cell_type": "markdown",
   "id": "9dc2662c",
   "metadata": {},
   "source": [
    "## <span style=\"color:darkblue\"> Tecnicas de modelación propuestas:  </span>     \n",
    "El problema en cuestión es de naturaleza clasificatoria, por lo que se empleará una técnica de clustering acorde a la naturaleza del problema. Adicionalmente, es posible que se requiera un modelo de aprendizaje reforzado para el desarrollo de la inteligencia artifical.\n",
    "\n",
    "Hace falta una discusión más profunda con el asesor del proyecto. "
   ]
  },
  {
   "cell_type": "markdown",
   "id": "e8fbd3d5",
   "metadata": {},
   "source": [
    "## <span style=\"color:darkblue\"> Conocimientos requeridos para el desarrollo del proyecto:  </span>     \n",
    "Pendiente por discutir con el profesor asesor. "
   ]
  },
  {
   "cell_type": "markdown",
   "id": "4be98b25",
   "metadata": {},
   "source": [
    "## <span style=\"color:darkblue\"> Resultados esperados:  </span>     \n",
    "Idealmente se espera desarrollar un modelo completo que analice los resultados experimentales en física de Altas energías (o HEP por sus siglas en inglés), de manera que pueda clasificar si un evento es o no anómalo, dentro de una serie de eventos de depósitos de energía de hadrones."
   ]
  },
  {
   "cell_type": "markdown",
   "id": "0fdffce4",
   "metadata": {},
   "source": [
    "## <span style=\"color:darkblue\"> Tiempo de desarrollo esperado:  </span> \n",
    "Se estima que el tiempo requerido para el desarrollo es de 5-6 semanas"
   ]
  }
 ],
 "metadata": {
  "kernelspec": {
   "display_name": "Python 3 (ipykernel)",
   "language": "python",
   "name": "python3"
  },
  "language_info": {
   "codemirror_mode": {
    "name": "ipython",
    "version": 3
   },
   "file_extension": ".py",
   "mimetype": "text/x-python",
   "name": "python",
   "nbconvert_exporter": "python",
   "pygments_lexer": "ipython3",
   "version": "3.10.6"
  }
 },
 "nbformat": 4,
 "nbformat_minor": 5
}
