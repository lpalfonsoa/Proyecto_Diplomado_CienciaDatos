{
 "cells": [
  {
   "cell_type": "markdown",
   "id": "0bda1e1b-3ff3-440e-a388-62cbbdcc4b51",
   "metadata": {},
   "source": [
    "[![open in Colab](https://colab.research.google.com/assets/colab-badge.svg)](https://colab.research.google.com/github/lpalfonsoa/Proyecto_Diplomado_CienciaDatos/blob/main/Entrega1/Reporte1.ipynb)\n",
    "\n",
    "\n",
    "# <center> <span style=\"color:purple\"> Diplomado en Ciencia de Datos. Reporte 1, proyecto.</span>\n",
    "### <span style=\"color:darkblue\"> Autor </span> \n",
    "<span style=\"color:black\"> Leidy Alfonso, lpalfonsoa@unal.edu.co </span> \n",
    "    \n",
    "<span style=\"color:black\"> Daniela Trigos, dtrigos@unal.edu.co </span>\n",
    "    \n",
    "<span style=\"color:black\"> Juan Diego, juagarcia@unal.edu.co </span>\n",
    "    \n",
    "## <span style=\"color:darkblue\"> Asesor principal:  </span> "
   ]
  },
  {
   "cell_type": "markdown",
   "id": "256b5cc9-111e-41e3-b773-9ff374fd8f7f",
   "metadata": {},
   "source": [
    "## <span style=\"color:darkblue\"> Asesor principal:  </span> \n",
    "Daniel Montenegro.\n",
    "\n",
    "## <span style=\"color:darkblue\"> Introducción:  </span> \n",
    "Aunque el modelo estándar de partículas es muy robusto, hoy sabemos que no es un modelo completo, pues no puede explicar ciertos fenómentos de carácter funamental en la física. Éstos últimos se buscan explicar con modelos que vallan más allá del modelo estandar y para confirmarlos experimentalmente es necesario poder detectar nuevas partículas.\n",
    "\n",
    "Por otro lado, en el campo de la física experimental de partículas, a pesar de los grandes esfuerzos hechos, no se han detectado de manera convincente nuevas partículas producidas en coliciones de altas energías.\n",
    "\n",
    "## <span style=\"color:darkblue\"> Descripción del problema:  </span> \n",
    "El objetivo de éste trabajo es usar técnicas de aprendizaje de máquinas para detectar señales de nuevas partículas en los detectores al rededor del LHC (Large Hadron Collider).\n",
    "\n",
    "Los detectores de partículas tiene dos tipos de mecanísmos principales de detección: la detección de trazas y la detección de depositos de energías. En este caso analizaremos los datos de los calorímetros hadrónicos, los cuales detéctan depósitos de energía de hadrónes (o jets).\n",
    "\n",
    "## <span style=\"color:darkblue\"> Fuentes de Datos:  </span> \n",
    "Los datos que se usarán son un conjunto de datos libres del LHC.\n",
    "\n",
    "Para llevar a cabo el trabajo usaremos dos tipos de datos:\n",
    "\n",
    "El primer tipo de datos fue obtenido a partir de una simulación de Monte Carlo hecha considerando los procesos descrítos por el modelo estándar.\n",
    "\n",
    "El segundo tipo de datos son conjuntos de señales anómalas, éstos datos pueden contener señales de partículas nuevas.\n",
    "\n",
    "## <span style=\"color:darkblue\"> Procesamiento ETL:  </span> \n",
    "Los datos vienen en formato HDF5, de manera que se usará la librería h5py para manejar dichas bases de datos.\n",
    "\n",
    "## <span style=\"color:darkblue\"> Exploración de datos:  </span> \n",
    "## <span style=\"color:darkblue\"> Tecnicas de modelación propuestas:  </span> \n",
    "## <span style=\"color:darkblue\"> Conocimientos requeridos para el desarrollo del proyecto:  </span> \n",
    "## <span style=\"color:darkblue\"> Resultados esperados:  </span> \n",
    "## <span style=\"color:darkblue\"> Tiempo de desarrollo esperado:  </span> \n",
    "Se estima que el tiempo requerido para el desarrollo es de 5-6 semanas.\n"
   ]
  },
  {
   "cell_type": "code",
   "execution_count": null,
   "id": "3356340d-a164-47fb-91c0-584008ea5abb",
   "metadata": {},
   "outputs": [],
   "source": []
  }
 ],
 "metadata": {
  "kernelspec": {
   "display_name": "Python 3 (ipykernel)",
   "language": "python",
   "name": "python3"
  },
  "language_info": {
   "codemirror_mode": {
    "name": "ipython",
    "version": 3
   },
   "file_extension": ".py",
   "mimetype": "text/x-python",
   "name": "python",
   "nbconvert_exporter": "python",
   "pygments_lexer": "ipython3",
   "version": "3.10.6"
  }
 },
 "nbformat": 4,
 "nbformat_minor": 5
}
