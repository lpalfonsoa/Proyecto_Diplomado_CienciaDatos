{
 "cells": [
  {
   "cell_type": "markdown",
   "id": "0bda1e1b-3ff3-440e-a388-62cbbdcc4b51",
   "metadata": {},
   "source": [
    "# <center> <span style=\"color:purple\"> Diplomado en Ciencia de Datos. Reporte 1, proyecto.</span>\n",
    "### <span style=\"color:darkblue\"> Autor </span> \n",
    "<span style=\"color:black\"> Leidy Alfonso, lpalfonsoa@unal.edu.co </span> \n",
    "    \n",
    "<span style=\"color:black\"> Daniela Paola Trigos García, dtrigos@unal.edu.co </span>\n",
    "    \n",
    "<span style=\"color:black\"> Juan Diego García Martínez, juagarcia@unal.edu.co </span>"
   ]
  },
  {
   "cell_type": "markdown",
   "id": "c1a99ed1",
   "metadata": {},
   "source": [
    "## <span style=\"color:darkblue\"> Asesor principal:  </span>  \n",
    "\n",
    "Daniel Montenegro."
   ]
  },
  {
   "cell_type": "markdown",
   "id": "1c669d3c",
   "metadata": {},
   "source": [
    "## <span style=\"color:darkblue\"> Introducción:  </span>\n",
    "Aunque el modelo estándar de partículas es muy robusto, hoy sabemos que no es un modelo completo, pues no puede explicar ciertos fenómentos de carácter funamental en la física. Éstos últimos se buscan explicar con modelos que vallan más allá del modelo estandar y para confirmarlos experimentalmente es necesario poder detectar nuevas partículas.\n",
    "\n",
    "Por otro lado, en el campo de la física experimental de partículas, a pesar de los grandes esfuerzos hechos, no se han detectado de manera convincente nuevas partículas producidas en coliciones de altas energías."
   ]
  },
  {
   "cell_type": "markdown",
   "id": "50461b0e",
   "metadata": {},
   "source": [
    "## <span style=\"color:darkblue\"> Descripción del problema:  </span> \n",
    "\n",
    "El objetivo de éste trabajo es usar técnicas de aprendizaje de máquinas para detectar señales de nuevas partículas en los detectores al rededor del LHC (Large Hadron Collider).\n",
    "\n",
    "Los detectores de partículas tiene dos tipos de mecanísmos principales de detección: la detección de trazas y la detección de depositos de energías. En este caso analizaremos los datos de los calorímetros hadrónicos, los cuales detéctan depósitos de energía de hadrónes (o jets). \n"
   ]
  },
  {
   "cell_type": "markdown",
   "id": "ad6b0a83",
   "metadata": {},
   "source": [
    "## <span style=\"color:darkblue\"> Fuentes de Datos:  </span>  \n",
    "\n",
    "Los datos que se usarán son un conjunto de datos libres del LHC.\n",
    "\n",
    "\n",
    "Para llevar a cabo el trabajo usaremos dos tipos de datos:\n",
    "\n",
    "1. El primer tipo de datos fue obtenido a partir de una simulación de Monte Carlo hecha considerando los procesos descrítos por el modelo estándar.\n",
    "\n",
    "2. El segundo tipo de datos son conjuntos de señales anómalas, éstos datos pueden contener señales de partículas nuevas."
   ]
  },
  {
   "cell_type": "markdown",
   "id": "84558911",
   "metadata": {},
   "source": [
    "## <span style=\"color:darkblue\"> Procesamiento ETL:  </span>     \n",
    "\n",
    "Los datos vienen en formato `HDF5`, de manera que se usará la librería `h5py` para manejar dichas bases de datos."
   ]
  },
  {
   "cell_type": "markdown",
   "id": "9dc2662c",
   "metadata": {},
   "source": [
    "## <span style=\"color:darkblue\"> Exploración de datos:  </span>     \n",
   ]
  },
  {
   "cell_type": "markdown",
   "id": "e8fbd3d5",
   "metadata": {},
   "source": [
    "## <span style=\"color:darkblue\"> Tecnicas de modelación propuestas:  </span>     \n"
   ]
  },
  {
   "cell_type": "markdown",
   "id": "4be98b25",
   "metadata": {},
   "source": [
    "## <span style=\"color:darkblue\"> Conocimientos requeridos para el desarrollo del proyecto:  </span>     \n"
   ]
  },
  {
   "cell_type": "markdown",
   "id": "0fdffce4",
   "metadata": {},
   "source": [
    "## <span style=\"color:darkblue\"> Resultados esperados:  </span>     \n",
    "\n",
    "Se espera tener el desarrollo de un modelo que muestre si un evento es anómalo o no."
   ]
  },
  {
   "cell_type": "markdown",
   "id": "7baeaa3f",
   "metadata": {},
   "source": [
    "## <span style=\"color:darkblue\"> Tiempo de desarrollo esperado:  </span>     \n",
    "\n",
    "6 semanas."
   ]
  },
 "metadata": {
  "kernelspec": {
   "display_name": "Python 3 (ipykernel)",
   "language": "python",
   "name": "python3"
  },
  "language_info": {
   "codemirror_mode": {
    "name": "ipython",
    "version": 3
   },
   "file_extension": ".py",
   "mimetype": "text/x-python",
   "name": "python",
   "nbconvert_exporter": "python",
   "pygments_lexer": "ipython3",
   "version": "3.10.6"
  }
 },
 "nbformat": 4,
 "nbformat_minor": 5
}
