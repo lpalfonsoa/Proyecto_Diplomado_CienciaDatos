{
 "cells": [
  {
   "cell_type": "markdown",
   "id": "0bda1e1b-3ff3-440e-a388-62cbbdcc4b51",
   "metadata": {},
   "source": [
    "# <center> <span style=\"color:purple\"> Diplomado en Ciencia de Datos. Reporte 1, proyecto.</span>\n",
    "### <span style=\"color:darkblue\"> Autor </span> \n",
    "<span style=\"color:black\"> Leidy Alfonso, lpalfonsoa@unal.edu.co </span> \n",
    "    \n",
    "<span style=\"color:black\"> Daniela Trigos, dtrigos@unal.edu.co </span>\n",
    "    \n",
    "<span style=\"color:black\"> Juan Diego, juagarcia@unal.edu.co </span>\n",
    "    \n",
    "## <span style=\"color:darkblue\"> Asesor principal:  </span> ",
    "    \n",
    "## <span style=\"color:darkblue\"> Introducción:  </span> ",
    "    \n",
    "## <span style=\"color:darkblue\"> Fuentes de Datos:  </span> ",
    "    \n",
    "## <span style=\"color:darkblue\"> Procesamiento ETL:  </span> "
   ]
  },
  {
   "cell_type": "markdown",
   "id": "256b5cc9-111e-41e3-b773-9ff374fd8f7f",
   "metadata": {},
   "source": []
  }
 ],
 "metadata": {
  "kernelspec": {
   "display_name": "Python 3 (ipykernel)",
   "language": "python",
   "name": "python3"
  },
  "language_info": {
   "codemirror_mode": {
    "name": "ipython",
    "version": 3
   },
   "file_extension": ".py",
   "mimetype": "text/x-python",
   "name": "python",
   "nbconvert_exporter": "python",
   "pygments_lexer": "ipython3",
   "version": "3.10.6"
  }
 },
 "nbformat": 4,
 "nbformat_minor": 5
}
