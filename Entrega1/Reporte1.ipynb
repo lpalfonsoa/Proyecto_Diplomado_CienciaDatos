{
 "cells": [
  {
   "cell_type": "markdown",
   "id": "0bda1e1b-3ff3-440e-a388-62cbbdcc4b51",
   "metadata": {},
   "source": [
    "[![open in Colab](https://colab.research.google.com/assets/colab-badge.svg)](https://colab.research.google.com/github/lpalfonsoa/Proyecto_Diplomado_CienciaDatos/blob/main/Entrega1/Reporte1.ipynb)\n",
    "\n",
    "\n",
    "# <center> <span style=\"color:purple\"> Diplomado en Ciencia de Datos. Reporte 1, proyecto.</span>\n",
    "### <span style=\"color:darkblue\"> Autor </span> \n",
    "<span style=\"color:black\"> Leidy Alfonso, lpalfonsoa@unal.edu.co </span> \n",
    "    \n",
    "<span style=\"color:black\"> Daniela Trigos, dtrigos@unal.edu.co </span>\n",
    "    \n",
    "<span style=\"color:black\"> Juan Diego, juagarcia@unal.edu.co </span>\n",
    "    \n",
    "## <span style=\"color:darkblue\"> Asesor principal:  </span> "
   ]
  },
  {
   "cell_type": "markdown",
   "id": "256b5cc9-111e-41e3-b773-9ff374fd8f7f",
   "metadata": {},
   "source": [
    "## <span style=\"color:darkblue\"> Asesor principal:  </span> \n",
    "Daniel Montenegro.\n",
    "\n",
    "## <span style=\"color:darkblue\"> Introducción:  </span> \n",
    "El modelo estándar de partículas es una teoría fundamental desarrollada en los años 70 que explica cómo interactúan los componentes básicos de la materia. Esta resulta de vital importancia en la actualidad debido a que ha demostrado un enorme éxito al proporcionar predicciones experimentales y dada su capacidad de describir tres de las cuatro fuerzas fundamentales.  Aunque el modelo estándar de partículas es muy robusto, hoy sabemos que no es un modelo completo, pues no puede explicar ciertos fenómentos de carácter fundamental en la física. Estos últimos se buscan explicar con modelos que vayan más allá del modelo estándar y para confirmarlos experimentalmente es necesario poder detectar nuevas partículas.\n",
    "\n",
    "Por un lado, en el último siglo se han desarrollado diferentes aceleradores de partículas con el fin de obtener energías cada vez mayores, haciendo posible medir fenómenos de altas energías que no están presentes en la cotidianidad. Es de particular interés el Gran Colisionador de Hadrones (conocio como LHC por sus siglas en inglés) ya que es el acelerador de partículas más grande y de mayor energía que existe en la actualidad, esperando que ayude a responder algunas de las preguntas fundamentales de la física que se refieren a las leyes básicas que rigen las interacciones y fuerzas entre las partículas elementales.\n",
    "Por otro lado, aunque el LHC ha tenido grandes éxitos, como por ejemplo la medición experimental (y por lo tanto la confirmación) de la existencia del bosón de Higgs, no se han detectado de manera convincente nuevas partículas producidas en colisiones de altas energías capaces de dar razón a las incógnitas actuales, a pesar de los grandes esfuerzos hechos. Debido a esto, actualmente los científicos buscan desarrollar tanto nuevas teorías como nuevos métodos para abarcar estas preguntas. Es así como, dado que los colisionadores proveen una gran cantidad de información durante su período de funcionamiento, las ténicas de análisis de datos y modelos de inteligencia articifial resaltan como una opción viable y esperanzadora que podría ayudar a encontrar un método para detectar nuevos fenómenos que puedan llevar a la detección de partículas aún no descubiertas.\n",
    "\n",
    "## <span style=\"color:darkblue\"> Descripción del problema:  </span> \n",
    "El objetivo de este trabajo es usar técnicas de aprendizaje de máquinas para - (opción 1:)detectar señales de nuevas partículas en los detectores al rededor del LHC (Large Hadron Collider). -(opción 2)clasificar eventos anómalos, es decir, que no se puedan explicar a partir del modelo estándar, usando algoritmos de inteligencia artificial a partir de los datos proveídos por el LHC. .\n",
    "\n",
    "Los detectores de partículas tiene dos tipos de mecanísmos principales de detección: la detección de trazas y la detección de depositos de energías. En este caso analizaremos los datos de los calorímetros hadrónicos, los cuales detéctan depósitos de energía de hadrónes (o jets).\n",
    "\n",
    "## <span style=\"color:darkblue\"> Fuentes de Datos:  </span> \n",
    "Los datos que se usarán son un conjunto de datos libres del LHC.\n",
    "\n",
    "Para llevar a cabo el trabajo usaremos dos tipos de datos:\n",
    "\n",
    "El primer tipo de datos fue obtenido a partir de una simulación de Monte Carlo hecha considerando los procesos descrítos por el modelo estándar.\n",
    "\n",
    "El segundo tipo de datos son conjuntos de señales anómalas, éstos datos pueden contener señales de partículas nuevas.\n",
    "\n",
    "## <span style=\"color:darkblue\"> Procesamiento ETL:  </span> \n",
    "Los datos vienen en formato HDF5, de manera que se usará la librería h5py para manejar dichas bases de datos.\n",
    "\n",
    "## <span style=\"color:darkblue\"> Exploración de datos:  </span> \n",
    "## <span style=\"color:darkblue\"> Tecnicas de modelación propuestas:  </span> \n",
    "## <span style=\"color:darkblue\"> Conocimientos requeridos para el desarrollo del proyecto:  </span> \n",
    "## <span style=\"color:darkblue\"> Resultados esperados:  </span> \n",
    "## <span style=\"color:darkblue\"> Tiempo de desarrollo esperado:  </span> \n",
    "Se estima que el tiempo requerido para el desarrollo es de 5-6 semanas.\n"
   ]
  },
  {
   "cell_type": "code",
   "execution_count": null,
   "id": "3356340d-a164-47fb-91c0-584008ea5abb",
   "metadata": {},
   "outputs": [],
   "source": []
  }
 ],
 "metadata": {
  "kernelspec": {
   "display_name": "Python 3 (ipykernel)",
   "language": "python",
   "name": "python3"
  },
  "language_info": {
   "codemirror_mode": {
    "name": "ipython",
    "version": 3
   },
   "file_extension": ".py",
   "mimetype": "text/x-python",
   "name": "python",
   "nbconvert_exporter": "python",
   "pygments_lexer": "ipython3",
   "version": "3.10.6"
  }
 },
 "nbformat": 4,
 "nbformat_minor": 5
}
