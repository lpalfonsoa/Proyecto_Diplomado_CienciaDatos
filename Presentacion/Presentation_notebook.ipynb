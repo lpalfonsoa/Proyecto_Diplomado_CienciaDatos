{
 "cells": [
  {
   "cell_type": "markdown",
   "id": "b3bc8ae4-3c22-4b04-9464-bf788e821754",
   "metadata": {},
   "source": [
    "[![open in Colab](https://colab.research.google.com/assets/colab-badge.svg)](https://colab.research.google.com/github/lpalfonsoa/Proyecto_Diplomado_CienciaDatos/blob/main/Entrega1/Reporte1.ipynb)\n",
    "\n",
    "\n",
    "# <center> <span style=\"color:purple\"> Diplomado en Ciencia de Datos. Proyecto.</span>\n",
    "### <span style=\"color:darkblue\"> Autor </span> \n",
    "<span style=\"color:black\"> Leidy Alfonso, lpalfonsoa@unal.edu.co </span> \n",
    "    \n",
    "<span style=\"color:black\"> Daniela Trigos, dtrigos@unal.edu.co </span>\n",
    "    \n",
    "<span style=\"color:black\"> Juan Diego, juagarcia@unal.edu.co </span>\n",
    "    \n",
    "## <span style=\"color:darkblue\"> Asesor principal:  </span> \n",
    " Alvaro Mauricio Montenegro."
   ]
  },
  {
   "cell_type": "markdown",
   "id": "27169461-f94e-493f-a916-a75dcadd4727",
   "metadata": {
    "tags": []
   },
   "source": [
    "## <span style=\"color:darkblue\"> Introducción:  </span> \n",
    "El **modelo estándar de partículas** es una teoría científica *comprobada*  que describe cómo interactúan los componentes básicos de la materia, considerando unas partículas elementales indivisibles llamadas **quarks**, y sus interacciones con las cuatro fuerzas fundamentales (nuclear fuerte, electromagnética, nuclear débil y gravitatoria). Esta resulta de vital importancia en la actualidad debido a que ha demostrado un enorme éxito al proporcionar predicciones experimentales y dada su capacidad de describir tres de las cuatro fuerzas fundamentales. Aunque el modelo estándar de partículas ha sido un triunfo en la física moderna debido a la basta comprobación experimental, hoy sabemos que no es un modelo completo, pues no puede explicar ciertos fenómentos de carácter funamental en la física. \n",
    "\n",
    "Por un lado, en el último siglo se han desarrollado diferentes aceleradores de partículas con el fin de obtener energías cada vez mayores, haciendo posible medir fenómenos de altas energías. Es de particular interés el **Gran Colisionador de Hadrones** (conocio como LHC por sus siglas en inglés) ya que es el acelerador de partículas más grande y de mayor energía que existe en la actualidad, esperando que ayude a responder algunas de las preguntas fundamentales de la física que se refieren a las leyes básicas que rigen las interacciones y fuerzas entre las partículas elementales. \n",
    "Por otro lado, aunque el LHC ha tenido grandes éxitos, como por ejemplo la medición experimental (y por lo tanto la confirmación) de la existencia del bosón de Higgs, no se han detectado de manera convincente nuevas partículas producidas en colisiones capaces de dar razón a las incógnitas actuales. Debido a esto, actualmente los científicos buscan desarrollar tanto nuevas teorías como nuevos métodos para abarcar estas preguntas. Es así como, dado que los colisionadores proveen una gran cantidad de información durante su período de funcionamiento, las ténicas de análisis de datos y modelos de inteligencia articifial resaltan como una opción viable y esperanzadora que podría ayudar a encontrar un método para detectar nuevos fenómenos que puedan llevar a la clasificación de eventos y, tal vez, posterior detección de partículas aún no descubiertas.\n",
    "\n",
    "\n",
    "\n",
    "El objetivo de este trabajo es emplear técnicas de aprendizaje de máquinas para clasificar eventos anómalos, es decir, que no se puedan explicar a partir del modelo estándar, usando algoritmos de inteligencia artificial a partir de los datos proveídos por el LHC.\n"
   ]
  },
  {
   "cell_type": "markdown",
   "id": "4822a2b5-ffd3-4e8f-888f-4dd4fae32dfc",
   "metadata": {},
   "source": [
    "## <span style=\"color:darkblue\"> Marco teórico:  </span> \n",
    "### <span style=\"color:darkblue\"> Jets  </span> \n",
    "Si nos centramos en estudiar la fuerza nuclear fuerte llegaremos a la **Cromodinámica Cuántica** (o **QCD** por sus siglas en inglés), la cual describe la interacción entre dicha fuerza y los quarks, por medio de una partícula elemental llamada gluón.  Existe un fenómeno particular presente en QCD llamado el **confinamiento de color**, este indica que partículas con carga de color, como los quarks y los gluones, no pueden encontrarse solas y, en consecuencia, no es posible observarlas directamente. Esto es, las partículas con color deben agruparse hasta formar una combinación con carga nula, a esta combinación se le conoce como **hadrones**. Los hadrones (figura X) a su vez se dividen en bariones y mesones, el primero hace referencia a partículas subatómicas constituidas por 3 quarks con carga de color diferente y el segundo por un quark y su un anti-quark, respectivamente. \n",
    "\n",
    "<img src=\"Hadrons.jpg\" width=\"400\" height=\"500\" align=\"center\"/>\n",
    "\n",
    "Como consecuencia del confinamiento del color, los quarks no se propagan libremente y se observan como *chorros de partículas incoloras*. El proceso por el que los quarks (y gluones) de alta energía producen chorros se conoce como **hadronización** (figura [X]). Las cinco etapas corresponden son: (i) el quark y el antiquark producidos en una interacción se separan inicialmente a altas velocidades; (ii) a medida que se separan, el campo de color se restringe a un tubo con una densidad de energía de aproximadamente 1 GeV/fm; (iii) a medida que los quarks se separan más, la energía almacenada en el campo de color es suficiente para proporcionar la energía necesaria para formar nuevos pares qq y la ruptura del campo de color en \"cuerdas\" más pequeñas es energéticamente favorable; (iv) este proceso continúa y se producen más pares qq hasta que (v) todos los quarks y antiquarks tienen una energía lo suficientemente baja energía suficiente para combinarse y formar hadrones incoloros. El proceso de hadronización da lugar a en dos chorros de hadrones, llamados **jets**, uno siguiendo la dirección inicial de los quarks y el otro en la dirección inicial de los antiquarks. \n",
    "**El proceso de alta energía más común en el LHC es la producción QCD de jets.**\n",
    "\n",
    "<img src=\"Proceso de hadronizacion.JPG\" width=\"400\" height=\"500\" align=\"center\"/>\n",
    "\n",
    "En la figura XXX se muestra un esqumático este fenómeno experimentalmente, en este se muestra un evento pp → dos-jetsX observado en el detector ATLAS en el LHC: (izquierda) la vista transversal (perpendicular a la dirección del haz) y (derecha) la vistaz con el ejez a lo largo de la dirección del haz.\n",
    "\n",
    "<img src=\"jets.JPG\" width=\"400\" height=\"500\" align=\"center\"/>"
   ]
  },
  {
   "cell_type": "markdown",
   "id": "71ac3928-090e-407c-a248-816b93ea7037",
   "metadata": {},
   "source": [
    "\n",
    "## <span style=\"color:darkblue\"> Descripción del problema:  </span> \n",
    "El objetivo de éste trabajo es usar técnicas de aprendizaje de máquinas para detectar señales de nuevas partículas en los detectores al rededor del LHC (Large Hadron Collider).\n",
    "\n",
    "Los detectores de partículas tiene dos tipos de mecanísmos principales de detección: la detección de trazas y la detección de depositos de energías. En este caso analizaremos los datos de los calorímetros hadrónicos, los cuales detéctan depósitos de energía de hadrónes (o jets).\n",
    "\n",
    "## <span style=\"color:darkblue\"> Fuentes de Datos:  </span> \n",
    "Los datos que se usarán son un conjunto de datos libres del LHC.\n",
    "\n",
    "Para llevar a cabo el trabajo usaremos dos tipos de datos:\n",
    "\n",
    "El primer tipo de datos fue obtenido a partir de una simulación de Monte Carlo hecha considerando los procesos descrítos por el modelo estándar.\n",
    "\n",
    "El segundo tipo de datos son conjuntos de señales anómalas, éstos datos pueden contener señales de partículas nuevas."
   ]
  },
  {
   "cell_type": "code",
   "execution_count": null,
   "id": "4d3760fb-7796-4f7f-a2e5-fd225945b7c9",
   "metadata": {},
   "outputs": [],
   "source": []
  },
  {
   "cell_type": "code",
   "execution_count": null,
   "id": "84670325-5cb5-401f-94c1-e8864aaa1259",
   "metadata": {},
   "outputs": [],
   "source": []
  }
 ],
 "metadata": {
  "kernelspec": {
   "display_name": "Python 3 (ipykernel)",
   "language": "python",
   "name": "python3"
  },
  "language_info": {
   "codemirror_mode": {
    "name": "ipython",
    "version": 3
   },
   "file_extension": ".py",
   "mimetype": "text/x-python",
   "name": "python",
   "nbconvert_exporter": "python",
   "pygments_lexer": "ipython3",
   "version": "3.9.13"
  }
 },
 "nbformat": 4,
 "nbformat_minor": 5
}
